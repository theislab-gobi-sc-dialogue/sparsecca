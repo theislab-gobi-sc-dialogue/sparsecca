{
 "cells": [
  {
   "cell_type": "code",
   "execution_count": 1,
   "metadata": {},
   "outputs": [],
   "source": [
    "import seaborn as sns\n",
    "import pandas as pd\n",
    "import matplotlib.pyplot as plt\n",
    "from scipy import stats\n",
    "import scanpy as sc\n",
    "import numpy as np\n",
    "import math"
   ]
  },
  {
   "cell_type": "code",
   "execution_count": 2,
   "metadata": {},
   "outputs": [],
   "source": [
    "adata_out_lp = sc.read_h5ad(\"../../tmp_dialogue_experiments/data/v2/uc-dialogue-reduced-output-lp/uc-dialogue-reduced_pmd.h5ad\")"
   ]
  },
  {
   "cell_type": "code",
   "execution_count": 3,
   "metadata": {},
   "outputs": [],
   "source": [
    "adata_out_io =  sc.read_h5ad(\"../../tmp_dialogue_experiments/data/v2/uc-dialogue-reduced-output/uc-dialogue-reduced_pmd.h5ad\")"
   ]
  },
  {
   "cell_type": "code",
   "execution_count": 5,
   "metadata": {},
   "outputs": [
    {
     "data": {
      "text/html": [
       "<div>\n",
       "<style scoped>\n",
       "    .dataframe tbody tr th:only-of-type {\n",
       "        vertical-align: middle;\n",
       "    }\n",
       "\n",
       "    .dataframe tbody tr th {\n",
       "        vertical-align: top;\n",
       "    }\n",
       "\n",
       "    .dataframe thead th {\n",
       "        text-align: right;\n",
       "    }\n",
       "</style>\n",
       "<table border=\"1\" class=\"dataframe\">\n",
       "  <thead>\n",
       "    <tr style=\"text-align: right;\">\n",
       "      <th></th>\n",
       "      <th>Cluster</th>\n",
       "      <th>nGene</th>\n",
       "      <th>nUMI</th>\n",
       "      <th>Subject</th>\n",
       "      <th>Health</th>\n",
       "      <th>Location</th>\n",
       "      <th>Sample</th>\n",
       "      <th>cellQ</th>\n",
       "      <th>cell_type</th>\n",
       "      <th>log_nUMI</th>\n",
       "      <th>mcp_0</th>\n",
       "      <th>mcp_1</th>\n",
       "      <th>mcp_2</th>\n",
       "    </tr>\n",
       "  </thead>\n",
       "  <tbody>\n",
       "    <tr>\n",
       "      <th>N44.LPA.GGGAATGAGCGTTCCG-immune</th>\n",
       "      <td>Plasma</td>\n",
       "      <td>238.0</td>\n",
       "      <td>20502.0</td>\n",
       "      <td>N44</td>\n",
       "      <td>Non-inflamed</td>\n",
       "      <td>LP</td>\n",
       "      <td>N44.LPA</td>\n",
       "      <td>0.280753</td>\n",
       "      <td>immune</td>\n",
       "      <td>9.928278</td>\n",
       "      <td>1.202523</td>\n",
       "      <td>1.063884</td>\n",
       "      <td>0.728866</td>\n",
       "    </tr>\n",
       "    <tr>\n",
       "      <th>N46.LPB.TCAGCAAAGTACGTAA-immune</th>\n",
       "      <td>Macrophages</td>\n",
       "      <td>2238.0</td>\n",
       "      <td>4667.0</td>\n",
       "      <td>N46</td>\n",
       "      <td>Healthy</td>\n",
       "      <td>LP</td>\n",
       "      <td>N46.LPB</td>\n",
       "      <td>0.027086</td>\n",
       "      <td>immune</td>\n",
       "      <td>8.448272</td>\n",
       "      <td>2.874559</td>\n",
       "      <td>2.217327</td>\n",
       "      <td>0.747108</td>\n",
       "    </tr>\n",
       "    <tr>\n",
       "      <th>N24.LPA.CATTATCTCTCTAGGA-immune</th>\n",
       "      <td>Plasma</td>\n",
       "      <td>592.0</td>\n",
       "      <td>3152.0</td>\n",
       "      <td>N24</td>\n",
       "      <td>Non-inflamed</td>\n",
       "      <td>LP</td>\n",
       "      <td>N24.LPA</td>\n",
       "      <td>0.274708</td>\n",
       "      <td>immune</td>\n",
       "      <td>8.055792</td>\n",
       "      <td>-1.622435</td>\n",
       "      <td>-1.566449</td>\n",
       "      <td>-1.431538</td>\n",
       "    </tr>\n",
       "    <tr>\n",
       "      <th>N106.LPB.AAGGTTCCAGGACGTA-immune</th>\n",
       "      <td>CD4+ Memory</td>\n",
       "      <td>4288.0</td>\n",
       "      <td>8336.0</td>\n",
       "      <td>N106</td>\n",
       "      <td>Inflamed</td>\n",
       "      <td>LP</td>\n",
       "      <td>N106.LPB</td>\n",
       "      <td>0.033489</td>\n",
       "      <td>immune</td>\n",
       "      <td>9.028339</td>\n",
       "      <td>0.823559</td>\n",
       "      <td>0.977053</td>\n",
       "      <td>1.379494</td>\n",
       "    </tr>\n",
       "    <tr>\n",
       "      <th>N19.LPA.CATGTACTTGGGAG-immune</th>\n",
       "      <td>CD4+ Memory</td>\n",
       "      <td>4932.0</td>\n",
       "      <td>10050.0</td>\n",
       "      <td>N19</td>\n",
       "      <td>Non-inflamed</td>\n",
       "      <td>LP</td>\n",
       "      <td>N19.LPA</td>\n",
       "      <td>0.098258</td>\n",
       "      <td>immune</td>\n",
       "      <td>9.215328</td>\n",
       "      <td>-0.146011</td>\n",
       "      <td>0.004276</td>\n",
       "      <td>0.465039</td>\n",
       "    </tr>\n",
       "    <tr>\n",
       "      <th>...</th>\n",
       "      <td>...</td>\n",
       "      <td>...</td>\n",
       "      <td>...</td>\n",
       "      <td>...</td>\n",
       "      <td>...</td>\n",
       "      <td>...</td>\n",
       "      <td>...</td>\n",
       "      <td>...</td>\n",
       "      <td>...</td>\n",
       "      <td>...</td>\n",
       "      <td>...</td>\n",
       "      <td>...</td>\n",
       "      <td>...</td>\n",
       "    </tr>\n",
       "    <tr>\n",
       "      <th>N14.LPB.TCGAGCCTTGCCCT-epithelial</th>\n",
       "      <td>TA 1</td>\n",
       "      <td>365.0</td>\n",
       "      <td>640.0</td>\n",
       "      <td>N14</td>\n",
       "      <td>Inflamed</td>\n",
       "      <td>LP</td>\n",
       "      <td>N14.LPB</td>\n",
       "      <td>0.008487</td>\n",
       "      <td>epithelial</td>\n",
       "      <td>6.461468</td>\n",
       "      <td>-0.464320</td>\n",
       "      <td>-0.438929</td>\n",
       "      <td>-0.380920</td>\n",
       "    </tr>\n",
       "    <tr>\n",
       "      <th>N110.LPB.AGAGTGGCAGCAGTTT-epithelial</th>\n",
       "      <td>Cycling TA</td>\n",
       "      <td>2360.0</td>\n",
       "      <td>7990.0</td>\n",
       "      <td>N110</td>\n",
       "      <td>Inflamed</td>\n",
       "      <td>LP</td>\n",
       "      <td>N110.LPB</td>\n",
       "      <td>0.247375</td>\n",
       "      <td>epithelial</td>\n",
       "      <td>8.985946</td>\n",
       "      <td>2.194814</td>\n",
       "      <td>2.073045</td>\n",
       "      <td>1.598980</td>\n",
       "    </tr>\n",
       "    <tr>\n",
       "      <th>N110.LPA.CATATGGTCGGTGTCG-epithelial</th>\n",
       "      <td>Cycling TA</td>\n",
       "      <td>867.0</td>\n",
       "      <td>1924.0</td>\n",
       "      <td>N110</td>\n",
       "      <td>Non-inflamed</td>\n",
       "      <td>LP</td>\n",
       "      <td>N110.LPA</td>\n",
       "      <td>0.014543</td>\n",
       "      <td>epithelial</td>\n",
       "      <td>7.562162</td>\n",
       "      <td>-2.550835</td>\n",
       "      <td>-2.661952</td>\n",
       "      <td>-2.852229</td>\n",
       "    </tr>\n",
       "    <tr>\n",
       "      <th>N21.LPA.TTCATGTGACGGGA-epithelial</th>\n",
       "      <td>Enteroendocrine</td>\n",
       "      <td>2325.0</td>\n",
       "      <td>13540.0</td>\n",
       "      <td>N21</td>\n",
       "      <td>Healthy</td>\n",
       "      <td>LP</td>\n",
       "      <td>N21.LPA</td>\n",
       "      <td>0.295743</td>\n",
       "      <td>epithelial</td>\n",
       "      <td>9.513404</td>\n",
       "      <td>-1.942646</td>\n",
       "      <td>-1.837085</td>\n",
       "      <td>-1.402929</td>\n",
       "    </tr>\n",
       "    <tr>\n",
       "      <th>N52.LPA1b.TGGTTAGTCTGTCAAG-epithelial</th>\n",
       "      <td>TA 2</td>\n",
       "      <td>2430.0</td>\n",
       "      <td>10498.0</td>\n",
       "      <td>N52</td>\n",
       "      <td>Non-inflamed</td>\n",
       "      <td>LP</td>\n",
       "      <td>N52.LPA1b</td>\n",
       "      <td>0.020445</td>\n",
       "      <td>epithelial</td>\n",
       "      <td>9.258940</td>\n",
       "      <td>-0.397993</td>\n",
       "      <td>-0.243909</td>\n",
       "      <td>0.305249</td>\n",
       "    </tr>\n",
       "  </tbody>\n",
       "</table>\n",
       "<p>8576 rows × 13 columns</p>\n",
       "</div>"
      ],
      "text/plain": [
       "                                               Cluster   nGene     nUMI  \\\n",
       "N44.LPA.GGGAATGAGCGTTCCG-immune                 Plasma   238.0  20502.0   \n",
       "N46.LPB.TCAGCAAAGTACGTAA-immune            Macrophages  2238.0   4667.0   \n",
       "N24.LPA.CATTATCTCTCTAGGA-immune                 Plasma   592.0   3152.0   \n",
       "N106.LPB.AAGGTTCCAGGACGTA-immune           CD4+ Memory  4288.0   8336.0   \n",
       "N19.LPA.CATGTACTTGGGAG-immune              CD4+ Memory  4932.0  10050.0   \n",
       "...                                                ...     ...      ...   \n",
       "N14.LPB.TCGAGCCTTGCCCT-epithelial                 TA 1   365.0    640.0   \n",
       "N110.LPB.AGAGTGGCAGCAGTTT-epithelial        Cycling TA  2360.0   7990.0   \n",
       "N110.LPA.CATATGGTCGGTGTCG-epithelial        Cycling TA   867.0   1924.0   \n",
       "N21.LPA.TTCATGTGACGGGA-epithelial      Enteroendocrine  2325.0  13540.0   \n",
       "N52.LPA1b.TGGTTAGTCTGTCAAG-epithelial             TA 2  2430.0  10498.0   \n",
       "\n",
       "                                      Subject        Health Location  \\\n",
       "N44.LPA.GGGAATGAGCGTTCCG-immune           N44  Non-inflamed       LP   \n",
       "N46.LPB.TCAGCAAAGTACGTAA-immune           N46       Healthy       LP   \n",
       "N24.LPA.CATTATCTCTCTAGGA-immune           N24  Non-inflamed       LP   \n",
       "N106.LPB.AAGGTTCCAGGACGTA-immune         N106      Inflamed       LP   \n",
       "N19.LPA.CATGTACTTGGGAG-immune             N19  Non-inflamed       LP   \n",
       "...                                       ...           ...      ...   \n",
       "N14.LPB.TCGAGCCTTGCCCT-epithelial         N14      Inflamed       LP   \n",
       "N110.LPB.AGAGTGGCAGCAGTTT-epithelial     N110      Inflamed       LP   \n",
       "N110.LPA.CATATGGTCGGTGTCG-epithelial     N110  Non-inflamed       LP   \n",
       "N21.LPA.TTCATGTGACGGGA-epithelial         N21       Healthy       LP   \n",
       "N52.LPA1b.TGGTTAGTCTGTCAAG-epithelial     N52  Non-inflamed       LP   \n",
       "\n",
       "                                          Sample     cellQ   cell_type  \\\n",
       "N44.LPA.GGGAATGAGCGTTCCG-immune          N44.LPA  0.280753      immune   \n",
       "N46.LPB.TCAGCAAAGTACGTAA-immune          N46.LPB  0.027086      immune   \n",
       "N24.LPA.CATTATCTCTCTAGGA-immune          N24.LPA  0.274708      immune   \n",
       "N106.LPB.AAGGTTCCAGGACGTA-immune        N106.LPB  0.033489      immune   \n",
       "N19.LPA.CATGTACTTGGGAG-immune            N19.LPA  0.098258      immune   \n",
       "...                                          ...       ...         ...   \n",
       "N14.LPB.TCGAGCCTTGCCCT-epithelial        N14.LPB  0.008487  epithelial   \n",
       "N110.LPB.AGAGTGGCAGCAGTTT-epithelial    N110.LPB  0.247375  epithelial   \n",
       "N110.LPA.CATATGGTCGGTGTCG-epithelial    N110.LPA  0.014543  epithelial   \n",
       "N21.LPA.TTCATGTGACGGGA-epithelial        N21.LPA  0.295743  epithelial   \n",
       "N52.LPA1b.TGGTTAGTCTGTCAAG-epithelial  N52.LPA1b  0.020445  epithelial   \n",
       "\n",
       "                                       log_nUMI     mcp_0     mcp_1     mcp_2  \n",
       "N44.LPA.GGGAATGAGCGTTCCG-immune        9.928278  1.202523  1.063884  0.728866  \n",
       "N46.LPB.TCAGCAAAGTACGTAA-immune        8.448272  2.874559  2.217327  0.747108  \n",
       "N24.LPA.CATTATCTCTCTAGGA-immune        8.055792 -1.622435 -1.566449 -1.431538  \n",
       "N106.LPB.AAGGTTCCAGGACGTA-immune       9.028339  0.823559  0.977053  1.379494  \n",
       "N19.LPA.CATGTACTTGGGAG-immune          9.215328 -0.146011  0.004276  0.465039  \n",
       "...                                         ...       ...       ...       ...  \n",
       "N14.LPB.TCGAGCCTTGCCCT-epithelial      6.461468 -0.464320 -0.438929 -0.380920  \n",
       "N110.LPB.AGAGTGGCAGCAGTTT-epithelial   8.985946  2.194814  2.073045  1.598980  \n",
       "N110.LPA.CATATGGTCGGTGTCG-epithelial   7.562162 -2.550835 -2.661952 -2.852229  \n",
       "N21.LPA.TTCATGTGACGGGA-epithelial      9.513404 -1.942646 -1.837085 -1.402929  \n",
       "N52.LPA1b.TGGTTAGTCTGTCAAG-epithelial  9.258940 -0.397993 -0.243909  0.305249  \n",
       "\n",
       "[8576 rows x 13 columns]"
      ]
     },
     "execution_count": 5,
     "metadata": {},
     "output_type": "execute_result"
    }
   ],
   "source": [
    "adata_out_lp.obs"
   ]
  },
  {
   "cell_type": "code",
   "execution_count": 47,
   "metadata": {},
   "outputs": [],
   "source": [
    "samples = []\n",
    "mcp_0 = []\n",
    "mcp_1 = []\n",
    "mcp_2 = []\n",
    "cell_type = []\n",
    "health = []\n",
    "method = []\n",
    "for index, row in adata_out_lp.obs.iterrows():\n",
    "    samples.append(row[\"Sample\"])\n",
    "    mcp_0.append(row[\"mcp_0\"])\n",
    "    mcp_1.append(row[\"mcp_1\"])\n",
    "    mcp_2.append(row[\"mcp_2\"])\n",
    "    cell_type.append(row[\"cell_type\"])\n",
    "    method.append(\"lp\")\n",
    "    health.append(row[\"Health\"])\n",
    "    \"\"\"if row[\"Health\"]==\"Healthy\":\n",
    "        health.append(0)\n",
    "    elif row[\"Health\"]==\"Non-inflamed\":\n",
    "        health.append(1)\n",
    "    else:\n",
    "        health.append(2)\"\"\"\n",
    "\n",
    "for index, row in adata_out_io.obs.iterrows():\n",
    "    samples.append(row[\"Sample\"])\n",
    "    mcp_0.append(row[\"mcp_0\"])\n",
    "    mcp_1.append(row[\"mcp_1\"])\n",
    "    mcp_2.append(row[\"mcp_2\"])\n",
    "    cell_type.append(row[\"cell_type\"])\n",
    "    method.append(\"io\")\n",
    "    health.append(row[\"Health\"])\n",
    "    \"\"\" if row[\"Health\"]==\"Healthy\":\n",
    "        health.append(0)\n",
    "    elif row[\"Health\"]==\"Non-inflamed\":\n",
    "        health.append(1)\n",
    "    else:\n",
    "        health.append(2)\"\"\"\n",
    "\n",
    "my_df = pd.DataFrame({\"sample\":samples, \"mcp_0\":mcp_0, \"mcp_1\":mcp_1, \"mcp_2\":mcp_2, \"cell_type\":cell_type, \"condition\":health, \"method\":method})"
   ]
  },
  {
   "cell_type": "code",
   "execution_count": 5,
   "metadata": {},
   "outputs": [
    {
     "data": {
      "text/html": [
       "<div>\n",
       "<style scoped>\n",
       "    .dataframe tbody tr th:only-of-type {\n",
       "        vertical-align: middle;\n",
       "    }\n",
       "\n",
       "    .dataframe tbody tr th {\n",
       "        vertical-align: top;\n",
       "    }\n",
       "\n",
       "    .dataframe thead th {\n",
       "        text-align: right;\n",
       "    }\n",
       "</style>\n",
       "<table border=\"1\" class=\"dataframe\">\n",
       "  <thead>\n",
       "    <tr style=\"text-align: right;\">\n",
       "      <th></th>\n",
       "      <th>sample</th>\n",
       "      <th>mcp_0</th>\n",
       "      <th>mcp_1</th>\n",
       "      <th>mcp_2</th>\n",
       "      <th>cell_type</th>\n",
       "      <th>condition</th>\n",
       "      <th>method</th>\n",
       "    </tr>\n",
       "  </thead>\n",
       "  <tbody>\n",
       "    <tr>\n",
       "      <th>14279</th>\n",
       "      <td>N15.EpiA</td>\n",
       "      <td>-1.403481</td>\n",
       "      <td>-0.267761</td>\n",
       "      <td>-0.378396</td>\n",
       "      <td>epithelial</td>\n",
       "      <td>Healthy</td>\n",
       "      <td>io</td>\n",
       "    </tr>\n",
       "    <tr>\n",
       "      <th>3180</th>\n",
       "      <td>N20.LPB</td>\n",
       "      <td>-3.042200</td>\n",
       "      <td>-3.050578</td>\n",
       "      <td>-2.905856</td>\n",
       "      <td>fibroblast</td>\n",
       "      <td>Healthy</td>\n",
       "      <td>lp</td>\n",
       "    </tr>\n",
       "    <tr>\n",
       "      <th>6058</th>\n",
       "      <td>N16.LPB</td>\n",
       "      <td>-2.004849</td>\n",
       "      <td>-2.165638</td>\n",
       "      <td>-2.472125</td>\n",
       "      <td>epithelial</td>\n",
       "      <td>Healthy</td>\n",
       "      <td>lp</td>\n",
       "    </tr>\n",
       "    <tr>\n",
       "      <th>3182</th>\n",
       "      <td>N21.LPA</td>\n",
       "      <td>-2.951378</td>\n",
       "      <td>-2.912604</td>\n",
       "      <td>-2.633012</td>\n",
       "      <td>fibroblast</td>\n",
       "      <td>Healthy</td>\n",
       "      <td>lp</td>\n",
       "    </tr>\n",
       "    <tr>\n",
       "      <th>13624</th>\n",
       "      <td>N13.LPB</td>\n",
       "      <td>0.408219</td>\n",
       "      <td>-0.357440</td>\n",
       "      <td>0.763555</td>\n",
       "      <td>epithelial</td>\n",
       "      <td>Healthy</td>\n",
       "      <td>io</td>\n",
       "    </tr>\n",
       "    <tr>\n",
       "      <th>...</th>\n",
       "      <td>...</td>\n",
       "      <td>...</td>\n",
       "      <td>...</td>\n",
       "      <td>...</td>\n",
       "      <td>...</td>\n",
       "      <td>...</td>\n",
       "      <td>...</td>\n",
       "    </tr>\n",
       "    <tr>\n",
       "      <th>4917</th>\n",
       "      <td>N9.LPB</td>\n",
       "      <td>-2.402649</td>\n",
       "      <td>-2.262135</td>\n",
       "      <td>-1.767331</td>\n",
       "      <td>fibroblast</td>\n",
       "      <td>Inflamed</td>\n",
       "      <td>lp</td>\n",
       "    </tr>\n",
       "    <tr>\n",
       "      <th>11735</th>\n",
       "      <td>N26.LPB</td>\n",
       "      <td>0.102914</td>\n",
       "      <td>0.828950</td>\n",
       "      <td>-0.054792</td>\n",
       "      <td>fibroblast</td>\n",
       "      <td>Inflamed</td>\n",
       "      <td>io</td>\n",
       "    </tr>\n",
       "    <tr>\n",
       "      <th>4920</th>\n",
       "      <td>N539.LPB</td>\n",
       "      <td>5.048985</td>\n",
       "      <td>4.987762</td>\n",
       "      <td>4.824159</td>\n",
       "      <td>fibroblast</td>\n",
       "      <td>Inflamed</td>\n",
       "      <td>lp</td>\n",
       "    </tr>\n",
       "    <tr>\n",
       "      <th>4896</th>\n",
       "      <td>N52.LPB2b</td>\n",
       "      <td>0.145659</td>\n",
       "      <td>0.237833</td>\n",
       "      <td>0.454046</td>\n",
       "      <td>fibroblast</td>\n",
       "      <td>Inflamed</td>\n",
       "      <td>lp</td>\n",
       "    </tr>\n",
       "    <tr>\n",
       "      <th>4174</th>\n",
       "      <td>N539.LPB</td>\n",
       "      <td>5.070829</td>\n",
       "      <td>4.552650</td>\n",
       "      <td>3.496933</td>\n",
       "      <td>fibroblast</td>\n",
       "      <td>Inflamed</td>\n",
       "      <td>lp</td>\n",
       "    </tr>\n",
       "  </tbody>\n",
       "</table>\n",
       "<p>17152 rows × 7 columns</p>\n",
       "</div>"
      ],
      "text/plain": [
       "          sample     mcp_0     mcp_1     mcp_2   cell_type condition method\n",
       "14279   N15.EpiA -1.403481 -0.267761 -0.378396  epithelial   Healthy     io\n",
       "3180     N20.LPB -3.042200 -3.050578 -2.905856  fibroblast   Healthy     lp\n",
       "6058     N16.LPB -2.004849 -2.165638 -2.472125  epithelial   Healthy     lp\n",
       "3182     N21.LPA -2.951378 -2.912604 -2.633012  fibroblast   Healthy     lp\n",
       "13624    N13.LPB  0.408219 -0.357440  0.763555  epithelial   Healthy     io\n",
       "...          ...       ...       ...       ...         ...       ...    ...\n",
       "4917      N9.LPB -2.402649 -2.262135 -1.767331  fibroblast  Inflamed     lp\n",
       "11735    N26.LPB  0.102914  0.828950 -0.054792  fibroblast  Inflamed     io\n",
       "4920    N539.LPB  5.048985  4.987762  4.824159  fibroblast  Inflamed     lp\n",
       "4896   N52.LPB2b  0.145659  0.237833  0.454046  fibroblast  Inflamed     lp\n",
       "4174    N539.LPB  5.070829  4.552650  3.496933  fibroblast  Inflamed     lp\n",
       "\n",
       "[17152 rows x 7 columns]"
      ]
     },
     "execution_count": 5,
     "metadata": {},
     "output_type": "execute_result"
    }
   ],
   "source": [
    "my_df['condition'] = pd.Categorical(my_df['condition'], [\"Healthy\", \"Non-inflamed\", \"Inflamed\"])\n",
    "my_df.sort_values(\"condition\")"
   ]
  },
  {
   "cell_type": "code",
   "execution_count": 113,
   "metadata": {},
   "outputs": [
    {
     "data": {
      "text/plain": [
       "<matplotlib.legend.Legend at 0x7fe377ca00d0>"
      ]
     },
     "execution_count": 113,
     "metadata": {},
     "output_type": "execute_result"
    },
    {
     "data": {
      "image/png": "[encoded data removed]",
      "text/plain": [
       "<Figure size 1800x600 with 3 Axes>"
      ]
     },
     "metadata": {},
     "output_type": "display_data"
    }
   ],
   "source": [
    "fig, axes = plt.subplots(1, 3, figsize=(18,6))\n",
    "# 95 % percentiles\n",
    "#mcp0 = sns.violinplot(ax=axes[0], data=my_df, x=\"mcp_0\", y=\"condition\", hue=\"method\", palette=\"Blues\", split=True)\n",
    "mcp0=sns.boxplot(ax=axes[0], data=my_df, x=\"mcp_0\", hue=\"condition\", y=\"method\", palette=\"Blues\")\n",
    "mcp1=sns.boxplot(ax=axes[1], data=my_df, x=\"mcp_1\", hue=\"condition\", y=\"method\", palette=\"Blues\")\n",
    "mcp2=sns.boxplot(ax=axes[2], data=my_df, x=\"mcp_2\", hue=\"condition\", y=\"method\", palette=\"Blues\")\n",
    "mcp1.set(yticklabels=[])\n",
    "mcp2.set(yticklabels=[])\n",
    "mcp0.set(yticklabels=[\"linear programming\", \"iterative optimization\"])\n",
    "mcp0.set(ylabel=None)\n",
    "mcp1.set(ylabel=None)\n",
    "mcp2.set(ylabel=None)\n",
    "mcp0.get_legend().remove()\n",
    "mcp1.get_legend().remove()\n",
    "mcp2.get_legend().remove()\n",
    "\n",
    "# add legend\n",
    "handles, labels = mcp0.get_legend_handles_labels()\n",
    "fig.legend(handles, labels, title=\"pmd method\",loc='upper right', ncol=3, bbox_to_anchor=(.125, 0.89))\n"
   ]
  },
  {
   "attachments": {},
   "cell_type": "markdown",
   "metadata": {},
   "source": [
    "-> correlation, lp, nimmt corr nicht ab, sus, weil"
   ]
  },
  {
   "cell_type": "code",
   "execution_count": 48,
   "metadata": {},
   "outputs": [],
   "source": [
    "my_df_tt = my_df"
   ]
  },
  {
   "cell_type": "code",
   "execution_count": 49,
   "metadata": {},
   "outputs": [],
   "source": [
    "my_df_tt['condition'] = np.where(my_df_tt['condition'] == \"Non-inflamed\",  \"UC\", my_df_tt['condition'])\n",
    "my_df_tt['condition'] = np.where(my_df_tt['condition'] == \"Inflamed\",  \"UC\", my_df_tt['condition'])"
   ]
  },
  {
   "cell_type": "code",
   "execution_count": 50,
   "metadata": {},
   "outputs": [
    {
     "data": {
      "text/html": [
       "<div>\n",
       "<style scoped>\n",
       "    .dataframe tbody tr th:only-of-type {\n",
       "        vertical-align: middle;\n",
       "    }\n",
       "\n",
       "    .dataframe tbody tr th {\n",
       "        vertical-align: top;\n",
       "    }\n",
       "\n",
       "    .dataframe thead th {\n",
       "        text-align: right;\n",
       "    }\n",
       "</style>\n",
       "<table border=\"1\" class=\"dataframe\">\n",
       "  <thead>\n",
       "    <tr style=\"text-align: right;\">\n",
       "      <th></th>\n",
       "      <th>sample</th>\n",
       "      <th>mcp_0</th>\n",
       "      <th>mcp_1</th>\n",
       "      <th>mcp_2</th>\n",
       "      <th>cell_type</th>\n",
       "      <th>condition</th>\n",
       "      <th>method</th>\n",
       "    </tr>\n",
       "  </thead>\n",
       "  <tbody>\n",
       "    <tr>\n",
       "      <th>0</th>\n",
       "      <td>N44.LPA</td>\n",
       "      <td>1.202523</td>\n",
       "      <td>1.063884</td>\n",
       "      <td>0.728866</td>\n",
       "      <td>immune</td>\n",
       "      <td>UC</td>\n",
       "      <td>lp</td>\n",
       "    </tr>\n",
       "    <tr>\n",
       "      <th>1</th>\n",
       "      <td>N46.LPB</td>\n",
       "      <td>2.874559</td>\n",
       "      <td>2.217327</td>\n",
       "      <td>0.747108</td>\n",
       "      <td>immune</td>\n",
       "      <td>Healthy</td>\n",
       "      <td>lp</td>\n",
       "    </tr>\n",
       "    <tr>\n",
       "      <th>2</th>\n",
       "      <td>N24.LPA</td>\n",
       "      <td>-1.622435</td>\n",
       "      <td>-1.566449</td>\n",
       "      <td>-1.431538</td>\n",
       "      <td>immune</td>\n",
       "      <td>UC</td>\n",
       "      <td>lp</td>\n",
       "    </tr>\n",
       "    <tr>\n",
       "      <th>3</th>\n",
       "      <td>N106.LPB</td>\n",
       "      <td>0.823559</td>\n",
       "      <td>0.977053</td>\n",
       "      <td>1.379494</td>\n",
       "      <td>immune</td>\n",
       "      <td>UC</td>\n",
       "      <td>lp</td>\n",
       "    </tr>\n",
       "    <tr>\n",
       "      <th>4</th>\n",
       "      <td>N19.LPA</td>\n",
       "      <td>-0.146011</td>\n",
       "      <td>0.004276</td>\n",
       "      <td>0.465039</td>\n",
       "      <td>immune</td>\n",
       "      <td>UC</td>\n",
       "      <td>lp</td>\n",
       "    </tr>\n",
       "    <tr>\n",
       "      <th>...</th>\n",
       "      <td>...</td>\n",
       "      <td>...</td>\n",
       "      <td>...</td>\n",
       "      <td>...</td>\n",
       "      <td>...</td>\n",
       "      <td>...</td>\n",
       "      <td>...</td>\n",
       "    </tr>\n",
       "    <tr>\n",
       "      <th>17147</th>\n",
       "      <td>N14.LPB</td>\n",
       "      <td>-1.511048</td>\n",
       "      <td>0.232555</td>\n",
       "      <td>-1.235259</td>\n",
       "      <td>epithelial</td>\n",
       "      <td>UC</td>\n",
       "      <td>io</td>\n",
       "    </tr>\n",
       "    <tr>\n",
       "      <th>17148</th>\n",
       "      <td>N110.LPB</td>\n",
       "      <td>1.359463</td>\n",
       "      <td>2.522964</td>\n",
       "      <td>-2.175399</td>\n",
       "      <td>epithelial</td>\n",
       "      <td>UC</td>\n",
       "      <td>io</td>\n",
       "    </tr>\n",
       "    <tr>\n",
       "      <th>17149</th>\n",
       "      <td>N110.LPA</td>\n",
       "      <td>-3.425878</td>\n",
       "      <td>0.464637</td>\n",
       "      <td>1.228129</td>\n",
       "      <td>epithelial</td>\n",
       "      <td>UC</td>\n",
       "      <td>io</td>\n",
       "    </tr>\n",
       "    <tr>\n",
       "      <th>17150</th>\n",
       "      <td>N21.LPA</td>\n",
       "      <td>-2.207446</td>\n",
       "      <td>0.283885</td>\n",
       "      <td>1.609500</td>\n",
       "      <td>epithelial</td>\n",
       "      <td>Healthy</td>\n",
       "      <td>io</td>\n",
       "    </tr>\n",
       "    <tr>\n",
       "      <th>17151</th>\n",
       "      <td>N52.LPA1b</td>\n",
       "      <td>-0.278737</td>\n",
       "      <td>-0.920922</td>\n",
       "      <td>0.643061</td>\n",
       "      <td>epithelial</td>\n",
       "      <td>UC</td>\n",
       "      <td>io</td>\n",
       "    </tr>\n",
       "  </tbody>\n",
       "</table>\n",
       "<p>17152 rows × 7 columns</p>\n",
       "</div>"
      ],
      "text/plain": [
       "          sample     mcp_0     mcp_1     mcp_2   cell_type condition method\n",
       "0        N44.LPA  1.202523  1.063884  0.728866      immune        UC     lp\n",
       "1        N46.LPB  2.874559  2.217327  0.747108      immune   Healthy     lp\n",
       "2        N24.LPA -1.622435 -1.566449 -1.431538      immune        UC     lp\n",
       "3       N106.LPB  0.823559  0.977053  1.379494      immune        UC     lp\n",
       "4        N19.LPA -0.146011  0.004276  0.465039      immune        UC     lp\n",
       "...          ...       ...       ...       ...         ...       ...    ...\n",
       "17147    N14.LPB -1.511048  0.232555 -1.235259  epithelial        UC     io\n",
       "17148   N110.LPB  1.359463  2.522964 -2.175399  epithelial        UC     io\n",
       "17149   N110.LPA -3.425878  0.464637  1.228129  epithelial        UC     io\n",
       "17150    N21.LPA -2.207446  0.283885  1.609500  epithelial   Healthy     io\n",
       "17151  N52.LPA1b -0.278737 -0.920922  0.643061  epithelial        UC     io\n",
       "\n",
       "[17152 rows x 7 columns]"
      ]
     },
     "execution_count": 50,
     "metadata": {},
     "output_type": "execute_result"
    }
   ],
   "source": [
    "my_df_tt"
   ]
  },
  {
   "cell_type": "code",
   "execution_count": 108,
   "metadata": {},
   "outputs": [
    {
     "data": {
      "text/plain": [
       "SignificanceResult(statistic=-0.21780245644809554, pvalue=1.2936328969810501e-92)"
      ]
     },
     "execution_count": 108,
     "metadata": {},
     "output_type": "execute_result"
    }
   ],
   "source": [
    "sc.stats.spearmanr(my_df_tt[my_df_tt[\"method\"]==\"io\"][\"mcp_2\"], my_df_tt[my_df_tt[\"method\"]==\"io\"][\"condition\"])"
   ]
  },
  {
   "cell_type": "code",
   "execution_count": 109,
   "metadata": {},
   "outputs": [
    {
     "data": {
      "text/plain": [
       "SignificanceResult(statistic=0.43682564057741663, pvalue=0.0)"
      ]
     },
     "execution_count": 109,
     "metadata": {},
     "output_type": "execute_result"
    }
   ],
   "source": [
    "sc.stats.spearmanr(my_df_tt[my_df_tt[\"method\"]==\"lp\"][\"mcp_2\"], my_df_tt[my_df_tt[\"method\"]==\"lp\"][\"condition\"])"
   ]
  },
  {
   "cell_type": "code",
   "execution_count": 112,
   "metadata": {},
   "outputs": [
    {
     "data": {
      "text/plain": [
       "SignificanceResult(statistic=-0.28315416076869565, pvalue=7.662611998006724e-158)"
      ]
     },
     "execution_count": 112,
     "metadata": {},
     "output_type": "execute_result"
    }
   ],
   "source": [
    "sc.stats.spearmanr(my_df_tt[my_df_tt[\"method\"]==\"io\"][\"mcp_0\"],my_df_tt[my_df_tt[\"method\"]==\"io\"][\"mcp_2\"])"
   ]
  },
  {
   "cell_type": "code",
   "execution_count": null,
   "metadata": {},
   "outputs": [],
   "source": [
    "my_df_tt[my_df_tt[\"method\"]==\"lp\"][\"mcp_0\"]"
   ]
  },
  {
   "cell_type": "code",
   "execution_count": 77,
   "metadata": {},
   "outputs": [
    {
     "data": {
      "text/plain": [
       "0       1.202523\n",
       "2      -1.622435\n",
       "3       0.823559\n",
       "4      -0.146011\n",
       "5       0.421427\n",
       "          ...   \n",
       "8570   -0.040846\n",
       "8571   -0.464320\n",
       "8572    2.194814\n",
       "8573   -2.550835\n",
       "8575   -0.397993\n",
       "Name: mcp_0, Length: 6758, dtype: float64"
      ]
     },
     "execution_count": 77,
     "metadata": {},
     "output_type": "execute_result"
    }
   ],
   "source": [
    "UC_mcp_0_lp"
   ]
  },
  {
   "cell_type": "code",
   "execution_count": 61,
   "metadata": {},
   "outputs": [],
   "source": [
    "UC_mcp_0_lp = my_df_tt[(my_df_tt[\"condition\"]==\"UC\") & (my_df_tt[\"method\"]==\"lp\")][\"mcp_0\"]\n",
    "UC_mcp_0_io = my_df_tt[(my_df_tt[\"condition\"]==\"UC\") & (my_df_tt[\"method\"]==\"io\")][\"mcp_0\"]\n",
    "H_mcp_0_lp = my_df_tt[(my_df_tt[\"condition\"]==\"Healthy\") & (my_df_tt[\"method\"]==\"lp\")][\"mcp_0\"]\n",
    "H_mcp_0_io = my_df_tt[(my_df_tt[\"condition\"]==\"Healthy\") & (my_df_tt[\"method\"]==\"io\")][\"mcp_0\"]\n",
    "\n",
    "\n",
    "UC_mcp_1_lp = my_df_tt[(my_df_tt[\"condition\"]==\"UC\") & (my_df_tt[\"method\"]==\"lp\")][\"mcp_1\"]\n",
    "UC_mcp_1_io = my_df_tt[(my_df_tt[\"condition\"]==\"UC\") & (my_df_tt[\"method\"]==\"io\")][\"mcp_1\"]\n",
    "H_mcp_1_lp = my_df_tt[(my_df_tt[\"condition\"]==\"Healthy\") & (my_df_tt[\"method\"]==\"lp\")][\"mcp_1\"]\n",
    "H_mcp_1_io = my_df_tt[(my_df_tt[\"condition\"]==\"Healthy\") & (my_df_tt[\"method\"]==\"io\")][\"mcp_1\"]\n",
    "\n",
    "\n",
    "UC_mcp_2_lp = my_df_tt[(my_df_tt[\"condition\"]==\"UC\") & (my_df_tt[\"method\"]==\"lp\")][\"mcp_2\"]\n",
    "UC_mcp_2_io = my_df_tt[(my_df_tt[\"condition\"]==\"UC\") & (my_df_tt[\"method\"]==\"io\")][\"mcp_2\"]\n",
    "H_mcp_2_lp = my_df_tt[(my_df_tt[\"condition\"]==\"Healthy\") & (my_df_tt[\"method\"]==\"lp\")][\"mcp_2\"]\n",
    "H_mcp_2_io = my_df_tt[(my_df_tt[\"condition\"]==\"Healthy\") & (my_df_tt[\"method\"]==\"io\")][\"mcp_2\"]"
   ]
  },
  {
   "attachments": {},
   "cell_type": "markdown",
   "metadata": {},
   "source": [
    "## ttest"
   ]
  },
  {
   "cell_type": "code",
   "execution_count": 31,
   "metadata": {},
   "outputs": [],
   "source": [
    "import scipy as sc"
   ]
  },
  {
   "cell_type": "code",
   "execution_count": 89,
   "metadata": {},
   "outputs": [
    {
     "data": {
      "text/plain": [
       "-1.858034716163488"
      ]
     },
     "execution_count": 89,
     "metadata": {},
     "output_type": "execute_result"
    }
   ],
   "source": [
    "np.mean(H_mcp_0_lp)"
   ]
  },
  {
   "cell_type": "code",
   "execution_count": 92,
   "metadata": {},
   "outputs": [
    {
     "data": {
      "text/plain": [
       "2.000810764802846"
      ]
     },
     "execution_count": 92,
     "metadata": {},
     "output_type": "execute_result"
    }
   ],
   "source": [
    "np.std(H_mcp_0_lp)"
   ]
  },
  {
   "cell_type": "code",
   "execution_count": 94,
   "metadata": {},
   "outputs": [
    {
     "name": "stdout",
     "output_type": "stream",
     "text": [
      "1818 6758\n"
     ]
    }
   ],
   "source": [
    "print(len(H_mcp_0_lp), len(UC_mcp_0_lp))"
   ]
  },
  {
   "cell_type": "code",
   "execution_count": 91,
   "metadata": {},
   "outputs": [
    {
     "data": {
      "text/plain": [
       "0.49983828262580937"
      ]
     },
     "execution_count": 91,
     "metadata": {},
     "output_type": "execute_result"
    }
   ],
   "source": [
    "np.mean(UC_mcp_0_lp)"
   ]
  },
  {
   "cell_type": "code",
   "execution_count": 93,
   "metadata": {},
   "outputs": [
    {
     "data": {
      "text/plain": [
       "1.8493413669865848"
      ]
     },
     "execution_count": 93,
     "metadata": {},
     "output_type": "execute_result"
    }
   ],
   "source": [
    "np.std(UC_mcp_0_lp)"
   ]
  },
  {
   "cell_type": "code",
   "execution_count": 70,
   "metadata": {},
   "outputs": [
    {
     "data": {
      "text/plain": [
       "Ttest_indResult(statistic=47.196332486144534, pvalue=0.0)"
      ]
     },
     "execution_count": 70,
     "metadata": {},
     "output_type": "execute_result"
    }
   ],
   "source": [
    "sc.stats.ttest_ind(UC_mcp_2_lp, H_mcp_2_lp, alternative=\"greater\")"
   ]
  },
  {
   "cell_type": "code",
   "execution_count": 101,
   "metadata": {},
   "outputs": [
    {
     "data": {
      "text/plain": [
       "KstestResult(statistic=0.496658322239445, pvalue=6.02e-321, statistic_location=-0.9315905427230458, statistic_sign=-1)"
      ]
     },
     "execution_count": 101,
     "metadata": {},
     "output_type": "execute_result"
    }
   ],
   "source": [
    "sc.stats.kstest(UC_mcp_2_lp, H_mcp_2_lp,  alternative=\"two-sided\")"
   ]
  },
  {
   "cell_type": "code",
   "execution_count": 102,
   "metadata": {},
   "outputs": [
    {
     "data": {
      "text/plain": [
       "KstestResult(statistic=0.22234252131931156, pvalue=1.389848534072272e-62, statistic_location=0.535606121577951, statistic_sign=1)"
      ]
     },
     "execution_count": 102,
     "metadata": {},
     "output_type": "execute_result"
    }
   ],
   "source": [
    "sc.stats.kstest(UC_mcp_2_io, H_mcp_2_io,  alternative=\"two-sided\")"
   ]
  },
  {
   "attachments": {},
   "cell_type": "markdown",
   "metadata": {},
   "source": [
    "## how sparse are weights?\n"
   ]
  },
  {
   "cell_type": "code",
   "execution_count": 8,
   "metadata": {},
   "outputs": [],
   "source": [
    "import pickle"
   ]
  },
  {
   "cell_type": "code",
   "execution_count": 9,
   "metadata": {},
   "outputs": [],
   "source": [
    "weights_io_ife = pickle.load(\n",
    "    open(\"pmd-permute/bs/uc-dialogue-reduced_ws_('immune', 'fibroblast', 'epithelial').pickle\", \"rb\")\n",
    ")\n",
    "weights_lp_ife = pickle.load(\n",
    "    open(\"pmd-permute/lp/uc-dialogue-reduced_ws_('immune', 'fibroblast', 'epithelial').pickle\", \"rb\")\n",
    ")\n"
   ]
  },
  {
   "cell_type": "code",
   "execution_count": 30,
   "metadata": {},
   "outputs": [
    {
     "name": "stdout",
     "output_type": "stream",
     "text": [
      "86\n",
      "75\n",
      "87\n",
      "80\n",
      "80\n",
      "87\n"
     ]
    }
   ],
   "source": [
    "for cell_type in weights_io_ife.keys():\n",
    "    print(np.sum(weights_io_ife[cell_type]==0))\n",
    "    print(np.sum(abs(weights_lp_ife[cell_type])<0.1))\n",
    "    "
   ]
  },
  {
   "cell_type": "code",
   "execution_count": 23,
   "metadata": {},
   "outputs": [
    {
     "data": {
      "text/plain": [
       "array([ 0.22321713,  0.34503722, -0.39093512,  0.00932344, -0.13747934,\n",
       "        0.06451768,  0.17804929, -0.18449486,  0.13566951, -0.03611979,\n",
       "        0.05199711, -0.00760222, -0.13574672, -0.12373065,  0.21206788,\n",
       "        0.08422744,  0.17845098, -0.19317161,  0.06284852, -0.24994462,\n",
       "        0.01189512, -0.04146899, -0.10409101,  0.22190459,  0.14892181,\n",
       "       -0.06738757, -0.02805607,  0.0635613 ,  0.04834946, -0.02169345,\n",
       "       -0.16876414, -0.04417007, -0.1014998 ,  0.20793325, -0.03808498,\n",
       "       -0.11043959,  0.14864199,  0.06529544, -0.02058831,  0.23655454,\n",
       "        0.04539186,  0.11742552, -0.12192811, -0.07083602, -0.08347968,\n",
       "        0.05615037, -0.08758615,  0.12160071, -0.02253814,  0.00860117])"
      ]
     },
     "execution_count": 23,
     "metadata": {},
     "output_type": "execute_result"
    }
   ],
   "source": [
    "weights_lp_ife[\"immune\"][:,0]"
   ]
  },
  {
   "cell_type": "markdown",
   "metadata": {},
   "source": [
    "### sum with weights from lp solver"
   ]
  },
  {
   "cell_type": "code",
   "execution_count": null,
   "metadata": {},
   "outputs": [],
   "source": [
    "np.dot(np.dot(np.dot(np.asarray(weights_lp_ife[\"immune\"][:, 0]).T, np.asarray(data_immune).T),np.asarray(data_epi)), np.asarray(weights_lp_ife[\"epithelial\"][:,0]))+\\\n",
    "np.dot(np.dot(np.dot(np.asarray(weights_lp_ife[\"immune\"][:, 0]).T, np.asarray(data_immune).T),np.asarray(data_fib)), np.asarray(weights_lp_ife[\"fibroblast\"][:,0]))+\\\n",
    "np.dot(np.dot(np.dot(np.asarray(weights_lp_ife[\"epithelial\"][:, 0]).T, np.asarray(data_epi).T),np.asarray(data_fib)), np.asarray(weights_lp_ife[\"fibroblast\"][:,0]))"
   ]
  }
 ],
 "metadata": {
  "kernelspec": {
   "display_name": "pertpy_env",
   "language": "python",
   "name": "python3"
  },
  "language_info": {
   "codemirror_mode": {
    "name": "ipython",
    "version": 3
   },
   "file_extension": ".py",
   "mimetype": "text/x-python",
   "name": "python",
   "nbconvert_exporter": "python",
   "pygments_lexer": "ipython3",
   "version": "3.9.16"
  },
  "orig_nbformat": 4
 },
 "nbformat": 4,
 "nbformat_minor": 2
}
