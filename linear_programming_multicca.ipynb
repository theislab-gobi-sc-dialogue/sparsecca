{
 "cells": [
  {
   "cell_type": "markdown",
   "metadata": {},
   "source": [
    "## Example: using Linear Programming to solve for 3 latent factors `w`"
   ]
  },
  {
   "cell_type": "markdown",
   "metadata": {},
   "source": [
    "Please note that the last part of this example, \"Permutation invariance in linear programming vs. MultiCCA in R and `pmd`\" requires that `inpt3` be exactly as printed."
   ]
  },
  {
   "cell_type": "code",
   "execution_count": null,
   "metadata": {},
   "outputs": [],
   "source": [
    "import pandas as pd\n",
    "import numpy as np\n",
    "\n",
    "import os\n",
    "import sys\n",
    "nb_dir = os.path.split(os.getcwd())[0]\n",
    "if nb_dir not in sys.path:\n",
    "    sys.path.append(\"../sparsecca/\")\n",
    "from sparsecca import lp_pmd\n",
    " "
   ]
  },
  {
   "cell_type": "code",
   "execution_count": null,
   "metadata": {},
   "outputs": [],
   "source": [
    "# example inputs\n",
    "inpt1 = pd.read_csv(\"tests/data/multicca1.csv\", sep=\",\", index_col=0).values\n",
    "inpt2 = pd.read_csv(\"tests/data/multicca2.csv\", sep=\",\", index_col=0).values[:, -5:]\n",
    "inpt3 = np.random.normal(size=inpt2.shape)\n",
    "\n",
    "penalties = [1.5, 1.5, 1.5]"
   ]
  },
  {
   "cell_type": "code",
   "execution_count": null,
   "metadata": {},
   "outputs": [],
   "source": [
    "inpt3"
   ]
  },
  {
   "cell_type": "code",
   "execution_count": null,
   "metadata": {},
   "outputs": [],
   "source": [
    "weights, svd_init = lp_pmd(\n",
    "    datasets=[inpt1, inpt2], # match feature dimension for now\n",
    "    penalties=penalties[:2],\n",
    "    K=3,\n",
    "    standardize=True,\n",
    "    mimic_R=True\n",
    ")"
   ]
  },
  {
   "cell_type": "code",
   "execution_count": null,
   "metadata": {},
   "outputs": [],
   "source": [
    "weights"
   ]
  },
  {
   "cell_type": "markdown",
   "metadata": {},
   "source": [
    "## Correlation between pmd results and lp results"
   ]
  },
  {
   "cell_type": "code",
   "execution_count": null,
   "metadata": {},
   "outputs": [],
   "source": [
    "from scipy.stats import spearmanr\n",
    "from sparsecca import multicca_pmd"
   ]
  },
  {
   "cell_type": "markdown",
   "metadata": {},
   "source": [
    "### high correlation between pmd and lp when `n=2`\n",
    "\n",
    "Let `n` equal the number of datasets."
   ]
  },
  {
   "cell_type": "code",
   "execution_count": null,
   "metadata": {},
   "outputs": [],
   "source": [
    "datasets = [inpt1, inpt2]\n",
    "ws_lp, _ = lp_pmd(datasets, penalties[:2])\n",
    "ws_r, _ = multicca_pmd(datasets, penalties[:2])"
   ]
  },
  {
   "cell_type": "code",
   "execution_count": null,
   "metadata": {},
   "outputs": [],
   "source": [
    "print(spearmanr(ws_lp[0], ws_r[0]))\n",
    "print(spearmanr(ws_lp[1], ws_r[1]))"
   ]
  },
  {
   "cell_type": "markdown",
   "metadata": {},
   "source": [
    "Note that this is the same as taking the first latent factor when K=3, as per the implementation in Witten 2009."
   ]
  },
  {
   "cell_type": "code",
   "execution_count": null,
   "metadata": {},
   "outputs": [],
   "source": [
    "print(spearmanr(weights[0].T[0], ws_r[0]))\n",
    "print(spearmanr(weights[1].T[0], ws_r[1]))"
   ]
  },
  {
   "cell_type": "markdown",
   "metadata": {},
   "source": [
    "### arbitrarily lower correlation when `n=3`"
   ]
  },
  {
   "cell_type": "markdown",
   "metadata": {},
   "source": [
    "Compare when `n=3`. Note that this is subject to the same warning as in the bottom of the notebook."
   ]
  },
  {
   "cell_type": "code",
   "execution_count": null,
   "metadata": {},
   "outputs": [],
   "source": [
    "datasets = [inpt1, inpt2, inpt3]\n",
    "ws_lp, _ = lp_pmd(datasets, penalties[:3])\n",
    "ws_r, _ = multicca_pmd(datasets, penalties[:3])"
   ]
  },
  {
   "cell_type": "code",
   "execution_count": null,
   "metadata": {},
   "outputs": [],
   "source": [
    "print(spearmanr(ws_lp[0], ws_r[0]))\n",
    "print(spearmanr(ws_lp[1], ws_r[1]))\n",
    "print(spearmanr(ws_lp[2], ws_r[2]))"
   ]
  },
  {
   "cell_type": "markdown",
   "metadata": {},
   "source": [
    "#### Optimization of the objective function"
   ]
  },
  {
   "cell_type": "markdown",
   "metadata": {},
   "source": [
    "Size of the objective function, which was maximized:"
   ]
  },
  {
   "cell_type": "code",
   "execution_count": null,
   "metadata": {},
   "outputs": [],
   "source": [
    "print('1st pair:', ws_lp[0].T @ inpt1.T @ inpt2 @ ws_lp[1])\n",
    "print('2nd pair:', ws_lp[1].T @ inpt2.T @ inpt3 @ ws_lp[2])\n",
    "print('3rd pair:', ws_lp[2].T @ inpt3.T @ inpt1 @ ws_lp[0])\n",
    "print('sum', ws_lp[0].T @ inpt1.T @ inpt2 @ ws_lp[1] + ws_lp[1].T @ inpt2.T @ inpt3 @ ws_lp[2] + ws_lp[2].T @ inpt3.T @ inpt1 @ ws_lp[0])"
   ]
  },
  {
   "cell_type": "code",
   "execution_count": null,
   "metadata": {},
   "outputs": [],
   "source": [
    "print('1st pair:', ws_r[0].T @ inpt1.T @ inpt2 @ ws_r[1])\n",
    "print('2nd pair:', ws_r[1].T @ inpt2.T @ inpt3 @ ws_r[2])\n",
    "print('3rd pair:', ws_r[2].T @ inpt3.T @ inpt1 @ ws_r[0])\n",
    "print('sum', ws_r[0].T @ inpt1.T @ inpt2 @ ws_r[1] + ws_r[1].T @ inpt2.T @ inpt3 @ ws_r[2] + ws_r[2].T @ inpt3.T @ inpt1 @ ws_r[0])"
   ]
  },
  {
   "cell_type": "markdown",
   "metadata": {},
   "source": [
    "L2 norm of the latent factors, constrained."
   ]
  },
  {
   "cell_type": "code",
   "execution_count": null,
   "metadata": {},
   "outputs": [],
   "source": [
    "np.linalg.norm(ws_lp)"
   ]
  },
  {
   "cell_type": "code",
   "execution_count": null,
   "metadata": {
    "scrolled": true
   },
   "outputs": [],
   "source": [
    "np.linalg.norm(ws_r)"
   ]
  },
  {
   "cell_type": "markdown",
   "metadata": {},
   "source": [
    "Neither linear programming nor manual convergence consistently produces a better optimization of the objective function in this small test case."
   ]
  },
  {
   "cell_type": "markdown",
   "metadata": {},
   "source": [
    "## Permutation invariance in linear programming vs. MultiCCA in R and `pmd`"
   ]
  },
  {
   "cell_type": "code",
   "execution_count": null,
   "metadata": {},
   "outputs": [],
   "source": [
    "def test_weights(weights_a, weights_b, perm_b: list[int], dec=5):\n",
    "    \"\"\"Tests whether `weights_a` and `weights_b` are the same given the permutation order of b.\n",
    "\n",
    "    Parameters:\n",
    "        weights_a: output of lp_pmd \n",
    "        weights_b: output of lp_pmd permuted Xn\n",
    "                   -> weights are of type np.ndarray in shape (N, f, K)\n",
    "                    - N: len(Xn) datasets\n",
    "                    - f: amount of features\n",
    "                    - K: amount of MCPs\n",
    "        perm_b:    order of the datasets used to generate a, in b\n",
    "        dec:       decimals to which weights should be rounded to account for numerical tolerance\n",
    "\n",
    "    Returns:\n",
    "        boolean: True if rounded weights are the same, else False\n",
    "    \"\"\"\n",
    "    weights_a_rounded = [list(w_a.round(decimals=dec).flatten()) for w_a in weights_a]\n",
    "    weights_b_rounded = [list(w_b.round(decimals=dec).flatten()) for w_b in weights_b]\n",
    "    \n",
    "    weights_b_ordered = []\n",
    "    for o in perm_b:\n",
    "        weights_b_ordered.append(weights_b_rounded[o])\n",
    "\n",
    "    return (weights_a_rounded==weights_b_ordered)"
   ]
  },
  {
   "cell_type": "code",
   "execution_count": null,
   "metadata": {},
   "outputs": [],
   "source": [
    "datasets = [inpt1, inpt2, inpt3]\n",
    "# original dataset with perm 1, 2, 0\n",
    "datasets_perm = [inpt3, inpt1, inpt2]"
   ]
  },
  {
   "cell_type": "markdown",
   "metadata": {},
   "source": [
    "### linear programming"
   ]
  },
  {
   "cell_type": "code",
   "execution_count": null,
   "metadata": {
    "scrolled": true
   },
   "outputs": [],
   "source": [
    "ws_lp, _ = lp_pmd(datasets, penalties)\n",
    "ws_lp_perm, _ = lp_pmd(datasets_perm, penalties)"
   ]
  },
  {
   "cell_type": "code",
   "execution_count": null,
   "metadata": {},
   "outputs": [],
   "source": [
    "ws_lp"
   ]
  },
  {
   "cell_type": "code",
   "execution_count": null,
   "metadata": {},
   "outputs": [],
   "source": [
    "ws_lp_perm"
   ]
  },
  {
   "cell_type": "code",
   "execution_count": null,
   "metadata": {},
   "outputs": [],
   "source": [
    "test_weights(ws_lp, ws_lp_perm, [1,2,0], dec=5)"
   ]
  },
  {
   "cell_type": "markdown",
   "metadata": {},
   "source": [
    "As we can see, the weights are the same with merely the order permuted as is appropriate."
   ]
  },
  {
   "cell_type": "markdown",
   "metadata": {},
   "source": [
    "### R (in python)"
   ]
  },
  {
   "cell_type": "code",
   "execution_count": null,
   "metadata": {},
   "outputs": [],
   "source": [
    "ws_r, _ = multicca_pmd(datasets, penalties)\n",
    "ws_r_perm, _ = multicca_pmd(datasets_perm, penalties)"
   ]
  },
  {
   "cell_type": "code",
   "execution_count": null,
   "metadata": {},
   "outputs": [],
   "source": [
    "ws_r"
   ]
  },
  {
   "cell_type": "code",
   "execution_count": null,
   "metadata": {},
   "outputs": [],
   "source": [
    "ws_r_perm"
   ]
  },
  {
   "cell_type": "markdown",
   "metadata": {},
   "source": [
    "Test with decimal tolerance 5."
   ]
  },
  {
   "cell_type": "code",
   "execution_count": null,
   "metadata": {},
   "outputs": [],
   "source": [
    "test_weights(np.array(ws_r), np.array(ws_r_perm), [1,2,0])"
   ]
  },
  {
   "cell_type": "markdown",
   "metadata": {},
   "source": [
    "Test with decimal tolerance 1."
   ]
  },
  {
   "cell_type": "code",
   "execution_count": null,
   "metadata": {},
   "outputs": [],
   "source": [
    "test_weights(np.array(ws_r), np.array(ws_r_perm), [1,2,0], dec=1)"
   ]
  },
  {
   "cell_type": "markdown",
   "metadata": {},
   "source": [
    "Test the equivalent negative solution."
   ]
  },
  {
   "cell_type": "code",
   "execution_count": null,
   "metadata": {},
   "outputs": [],
   "source": [
    "test_weights(np.array(ws_r), -np.array(ws_r_perm), [1,2,0], dec=1)"
   ]
  },
  {
   "cell_type": "markdown",
   "metadata": {},
   "source": [
    "**Note**: linear programming will always solve for the same objective function regardless of the order of the inputs, but the custom PMD implementation in `multicca_pmd` will not. Depending on the dataset, the solution may converge similarly regardless of order (with only a difference in sign), or the solution may converge to a completely different local minima given a different order."
   ]
  },
  {
   "attachments": {},
   "cell_type": "markdown",
   "metadata": {},
   "source": [
    "## UC data"
   ]
  },
  {
   "cell_type": "code",
   "execution_count": 6,
   "metadata": {},
   "outputs": [],
   "source": [
    "import anndata as ad\n",
    "from sparsecca import multicca_pmd, lp_pmd\n",
    "import numpy as np"
   ]
  },
  {
   "cell_type": "code",
   "execution_count": 7,
   "metadata": {},
   "outputs": [],
   "source": [
    "adata_in = ad.read_h5ad(\"../tmp_dialogue_experiments/data/uc-dialogue-reduced.h5ad\")"
   ]
  },
  {
   "cell_type": "code",
   "execution_count": 11,
   "metadata": {},
   "outputs": [],
   "source": [
    "adata_in.X = np.nan_to_num(adata_in.X, 0)\n",
    "adata = adata_in\n",
    "\n",
    "shared_samples = (\n",
    "    set(adata.obs.query(\"cell_type == 'immune'\")[\"Sample\"])\n",
    "    .intersection(set(adata.obs.query(\"cell_type == 'fibroblast'\")[\"Sample\"]))\n",
    "    .intersection(set(adata.obs.query(\"cell_type == 'epithelial'\")[\"Sample\"]))\n",
    ")\n",
    "\n",
    "adata = adata[adata.obs[\"Sample\"].isin(shared_samples)]\n",
    "\n",
    "adata_in = adata\n",
    "\n",
    "data_epi = adata_in[adata_in.obs[\"cell_type\"]==\"epithelial\"].X\n",
    "data_imm = adata_in[adata_in.obs[\"cell_type\"]==\"immune\"].X\n",
    "data_fib =  adata_in[adata_in.obs[\"cell_type\"]==\"fibroblast\"].X\n",
    "\n"
   ]
  },
  {
   "cell_type": "code",
   "execution_count": 12,
   "metadata": {},
   "outputs": [],
   "source": [
    "uc_datasets = [data_epi, data_imm, data_fib]"
   ]
  },
  {
   "attachments": {},
   "cell_type": "markdown",
   "metadata": {},
   "source": [
    "## do PMD on UC data"
   ]
  },
  {
   "attachments": {},
   "cell_type": "markdown",
   "metadata": {},
   "source": [
    "### do PCA\n"
   ]
  },
  {
   "cell_type": "code",
   "execution_count": 14,
   "metadata": {},
   "outputs": [],
   "source": [
    "from pertpy import tools"
   ]
  },
  {
   "cell_type": "code",
   "execution_count": null,
   "metadata": {},
   "outputs": [],
   "source": [
    "dl = tools.Dialogue()\n",
    "dl.load(adata_in, )"
   ]
  },
  {
   "cell_type": "code",
   "execution_count": 13,
   "metadata": {},
   "outputs": [
    {
     "ename": "ValueError",
     "evalue": "matmul: Input operand 1 has a mismatch in its core dimension 0, with gufunc signature (n?,k),(k,m?)->(n?,m?) (size 3541 is different from 2112)",
     "output_type": "error",
     "traceback": [
      "\u001b[0;31m---------------------------------------------------------------------------\u001b[0m",
      "\u001b[0;31mValueError\u001b[0m                                Traceback (most recent call last)",
      "Cell \u001b[0;32mIn[13], line 3\u001b[0m\n\u001b[1;32m      1\u001b[0m penalties \u001b[39m=\u001b[39m [\u001b[39m1.5\u001b[39m, \u001b[39m1.5\u001b[39m, \u001b[39m1.5\u001b[39m]\n\u001b[1;32m      2\u001b[0m \u001b[39m# ws_lp, _ = lp_pmd(uc_datasets, penalties)\u001b[39;00m\n\u001b[0;32m----> 3\u001b[0m ws_r, _ \u001b[39m=\u001b[39m multicca_pmd(uc_datasets, penalties)\n",
      "File \u001b[0;32m~/Blockteil/sparsecca/sparsecca/_multicca_pmd.py:105\u001b[0m, in \u001b[0;36mmulticca\u001b[0;34m(datasets, penalties, niter, K, standardize, mimic_R)\u001b[0m\n\u001b[1;32m     99\u001b[0m \u001b[39mwhile\u001b[39;00m (\n\u001b[1;32m    100\u001b[0m     curiter \u001b[39m<\u001b[39m niter\n\u001b[1;32m    101\u001b[0m     \u001b[39mand\u001b[39;00m np\u001b[39m.\u001b[39mabs(crit_old \u001b[39m-\u001b[39m crit) \u001b[39m/\u001b[39m np\u001b[39m.\u001b[39mabs(crit_old) \u001b[39m>\u001b[39m \u001b[39m0.001\u001b[39m\n\u001b[1;32m    102\u001b[0m     \u001b[39mand\u001b[39;00m crit_old \u001b[39m!=\u001b[39m \u001b[39m0\u001b[39m\n\u001b[1;32m    103\u001b[0m ):\n\u001b[1;32m    104\u001b[0m     crit_old \u001b[39m=\u001b[39m crit\n\u001b[0;32m--> 105\u001b[0m     crit \u001b[39m=\u001b[39m get_crit(datasets, ws)\n\u001b[1;32m    107\u001b[0m     storecrits\u001b[39m.\u001b[39mappend(crit)\n\u001b[1;32m    108\u001b[0m     curiter \u001b[39m+\u001b[39m\u001b[39m=\u001b[39m \u001b[39m1\u001b[39m\n",
      "File \u001b[0;32m~/Blockteil/sparsecca/sparsecca/_multicca_pmd.py:17\u001b[0m, in \u001b[0;36mget_crit\u001b[0;34m(datasets, ws)\u001b[0m\n\u001b[1;32m     15\u001b[0m \u001b[39mfor\u001b[39;00m ii \u001b[39min\u001b[39;00m \u001b[39mrange\u001b[39m(\u001b[39m1\u001b[39m, \u001b[39mlen\u001b[39m(datasets)):\n\u001b[1;32m     16\u001b[0m     \u001b[39mfor\u001b[39;00m jj \u001b[39min\u001b[39;00m \u001b[39mrange\u001b[39m(\u001b[39m0\u001b[39m, ii):\n\u001b[0;32m---> 17\u001b[0m         crit \u001b[39m=\u001b[39m crit \u001b[39m+\u001b[39m ws[ii]\u001b[39m.\u001b[39;49mT \u001b[39m@\u001b[39;49m datasets[ii]\u001b[39m.\u001b[39;49mT \u001b[39m@\u001b[39;49m datasets[jj] \u001b[39m@\u001b[39m ws[jj]\n\u001b[1;32m     18\u001b[0m \u001b[39mreturn\u001b[39;00m crit\n",
      "\u001b[0;31mValueError\u001b[0m: matmul: Input operand 1 has a mismatch in its core dimension 0, with gufunc signature (n?,k),(k,m?)->(n?,m?) (size 3541 is different from 2112)"
     ]
    }
   ],
   "source": [
    "penalties = [1.5, 1.5, 1.5]\n",
    "# ws_lp, _ = lp_pmd(uc_datasets, penalties)\n",
    "ws_r, _ = multicca_pmd(uc_datasets, penalties)"
   ]
  }
 ],
 "metadata": {
  "kernelspec": {
   "display_name": "pertpy_env",
   "language": "python",
   "name": "python3"
  },
  "language_info": {
   "codemirror_mode": {
    "name": "ipython",
    "version": 3
   },
   "file_extension": ".py",
   "mimetype": "text/x-python",
   "name": "python",
   "nbconvert_exporter": "python",
   "pygments_lexer": "ipython3",
   "version": "3.9.16"
  },
  "vscode": {
   "interpreter": {
    "hash": "fa19edbee9fe1d1779ad07564e2c5e8f9c1d5dde87f2202c40e95d7e48544b2f"
   }
  }
 },
 "nbformat": 4,
 "nbformat_minor": 2
}
